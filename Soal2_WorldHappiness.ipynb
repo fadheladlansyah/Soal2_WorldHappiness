{
  "nbformat": 4,
  "nbformat_minor": 0,
  "metadata": {
    "colab": {
      "name": "Untitled1.ipynb",
      "provenance": []
    },
    "kernelspec": {
      "name": "python3",
      "display_name": "Python 3"
    }
  },
  "cells": [
    {
      "cell_type": "code",
      "metadata": {
        "id": "CcLzwsRCp1_C",
        "colab_type": "code",
        "colab": {}
      },
      "source": [
        "import numpy as np\n",
        "import pandas as pd\n",
        "import matplotlib.pyplot as plt"
      ],
      "execution_count": 0,
      "outputs": []
    },
    {
      "cell_type": "code",
      "metadata": {
        "id": "-CeDu3TEqL8Z",
        "colab_type": "code",
        "colab": {}
      },
      "source": [
        "df = pd.read_csv(\"2019.csv\")\n",
        "df = df.drop([\"Overall rank\"], axis=1)"
      ],
      "execution_count": 0,
      "outputs": []
    },
    {
      "cell_type": "code",
      "metadata": {
        "id": "0xNEgXJvqXFs",
        "colab_type": "code",
        "outputId": "abf0207d-7eb0-4f2e-800f-6501433b6429",
        "colab": {
          "base_uri": "https://localhost:8080/",
          "height": 228
        }
      },
      "source": [
        "df.info()"
      ],
      "execution_count": 3,
      "outputs": [
        {
          "output_type": "stream",
          "text": [
            "<class 'pandas.core.frame.DataFrame'>\n",
            "RangeIndex: 156 entries, 0 to 155\n",
            "Data columns (total 8 columns):\n",
            "Country or region               156 non-null object\n",
            "Score                           156 non-null float64\n",
            "GDP per capita                  156 non-null float64\n",
            "Social support                  156 non-null float64\n",
            "Healthy life expectancy         156 non-null float64\n",
            "Freedom to make life choices    156 non-null float64\n",
            "Generosity                      156 non-null float64\n",
            "Perceptions of corruption       156 non-null float64\n",
            "dtypes: float64(7), object(1)\n",
            "memory usage: 9.9+ KB\n"
          ],
          "name": "stdout"
        }
      ]
    },
    {
      "cell_type": "markdown",
      "metadata": {
        "id": "o2zo4XIXsLl4",
        "colab_type": "text"
      },
      "source": [
        "###### __1.__ Untuk setiap numerik feature/column (kecuali column Overall Rank), hitunglah:\n",
        "\n",
        "- Mean, Median dan Modus\n",
        "- Range, Q1, Q3 dan IQR\n",
        "- Standard Deviasi & Variance\n",
        "- Z-score tiap data point"
      ]
    },
    {
      "cell_type": "code",
      "metadata": {
        "id": "U1OxZpivtBat",
        "colab_type": "code",
        "colab": {
          "base_uri": "https://localhost:8080/",
          "height": 306
        },
        "outputId": "0dfc2078-058f-41ed-a3fe-1a42231eceef"
      },
      "source": [
        "df1 = df.drop(['Country or region'], axis=1)\n",
        "df1 = df1.agg({col : ['mean',\n",
        "                      'median',\n",
        "                      lambda x: x.value_counts().index[0],\n",
        "                      lambda x: x.max() - x.min(),\n",
        "                      lambda x: x.quantile(q=0.25),\n",
        "                      lambda x: x.quantile(q=0.75),\n",
        "                      lambda x: x.quantile(q=0.75) - x.quantile(q=0.25),\n",
        "                      lambda x: x.std(ddof=1),\n",
        "                      lambda x: x.var(ddof=1),\n",
        "                      ] for col in df1.columns\n",
        "                })\n",
        "df1.index = ['Mean', 'Median', 'Modus', 'Range', 'Q1', 'Q3', 'IQR', 'Standard Deviasi', 'Variance']\n",
        "df1\n",
        "\n",
        "# Modus hanya menampilkan nilai terbesar dan count terbanyak. Beberapa kolom memiliki lebih dari satu modus\n",
        "# Std and var menggunakan sample statistic karena jelas data tidak mencakup semua negara"
      ],
      "execution_count": 4,
      "outputs": [
        {
          "output_type": "execute_result",
          "data": {
            "text/html": [
              "<div>\n",
              "<style scoped>\n",
              "    .dataframe tbody tr th:only-of-type {\n",
              "        vertical-align: middle;\n",
              "    }\n",
              "\n",
              "    .dataframe tbody tr th {\n",
              "        vertical-align: top;\n",
              "    }\n",
              "\n",
              "    .dataframe thead th {\n",
              "        text-align: right;\n",
              "    }\n",
              "</style>\n",
              "<table border=\"1\" class=\"dataframe\">\n",
              "  <thead>\n",
              "    <tr style=\"text-align: right;\">\n",
              "      <th></th>\n",
              "      <th>Score</th>\n",
              "      <th>GDP per capita</th>\n",
              "      <th>Social support</th>\n",
              "      <th>Healthy life expectancy</th>\n",
              "      <th>Freedom to make life choices</th>\n",
              "      <th>Generosity</th>\n",
              "      <th>Perceptions of corruption</th>\n",
              "    </tr>\n",
              "  </thead>\n",
              "  <tbody>\n",
              "    <tr>\n",
              "      <th>Mean</th>\n",
              "      <td>5.407096</td>\n",
              "      <td>0.905147</td>\n",
              "      <td>1.208814</td>\n",
              "      <td>0.725244</td>\n",
              "      <td>0.392571</td>\n",
              "      <td>0.184846</td>\n",
              "      <td>0.110603</td>\n",
              "    </tr>\n",
              "    <tr>\n",
              "      <th>Median</th>\n",
              "      <td>5.379500</td>\n",
              "      <td>0.960000</td>\n",
              "      <td>1.271500</td>\n",
              "      <td>0.789000</td>\n",
              "      <td>0.417000</td>\n",
              "      <td>0.177500</td>\n",
              "      <td>0.085500</td>\n",
              "    </tr>\n",
              "    <tr>\n",
              "      <th>Modus</th>\n",
              "      <td>5.208000</td>\n",
              "      <td>0.960000</td>\n",
              "      <td>1.465000</td>\n",
              "      <td>0.999000</td>\n",
              "      <td>0.498000</td>\n",
              "      <td>0.153000</td>\n",
              "      <td>0.028000</td>\n",
              "    </tr>\n",
              "    <tr>\n",
              "      <th>Range</th>\n",
              "      <td>4.916000</td>\n",
              "      <td>1.684000</td>\n",
              "      <td>1.624000</td>\n",
              "      <td>1.141000</td>\n",
              "      <td>0.631000</td>\n",
              "      <td>0.566000</td>\n",
              "      <td>0.453000</td>\n",
              "    </tr>\n",
              "    <tr>\n",
              "      <th>Q1</th>\n",
              "      <td>4.544500</td>\n",
              "      <td>0.602750</td>\n",
              "      <td>1.055750</td>\n",
              "      <td>0.547750</td>\n",
              "      <td>0.308000</td>\n",
              "      <td>0.108750</td>\n",
              "      <td>0.047000</td>\n",
              "    </tr>\n",
              "    <tr>\n",
              "      <th>Q3</th>\n",
              "      <td>6.184500</td>\n",
              "      <td>1.232500</td>\n",
              "      <td>1.452500</td>\n",
              "      <td>0.881750</td>\n",
              "      <td>0.507250</td>\n",
              "      <td>0.248250</td>\n",
              "      <td>0.141250</td>\n",
              "    </tr>\n",
              "    <tr>\n",
              "      <th>IQR</th>\n",
              "      <td>1.640000</td>\n",
              "      <td>0.629750</td>\n",
              "      <td>0.396750</td>\n",
              "      <td>0.334000</td>\n",
              "      <td>0.199250</td>\n",
              "      <td>0.139500</td>\n",
              "      <td>0.094250</td>\n",
              "    </tr>\n",
              "    <tr>\n",
              "      <th>Standard Deviasi</th>\n",
              "      <td>1.113120</td>\n",
              "      <td>0.398389</td>\n",
              "      <td>0.299191</td>\n",
              "      <td>0.242124</td>\n",
              "      <td>0.143289</td>\n",
              "      <td>0.095254</td>\n",
              "      <td>0.094538</td>\n",
              "    </tr>\n",
              "    <tr>\n",
              "      <th>Variance</th>\n",
              "      <td>1.239036</td>\n",
              "      <td>0.158714</td>\n",
              "      <td>0.089515</td>\n",
              "      <td>0.058624</td>\n",
              "      <td>0.020532</td>\n",
              "      <td>0.009073</td>\n",
              "      <td>0.008937</td>\n",
              "    </tr>\n",
              "  </tbody>\n",
              "</table>\n",
              "</div>"
            ],
            "text/plain": [
              "                     Score  ...  Perceptions of corruption\n",
              "Mean              5.407096  ...                   0.110603\n",
              "Median            5.379500  ...                   0.085500\n",
              "Modus             5.208000  ...                   0.028000\n",
              "Range             4.916000  ...                   0.453000\n",
              "Q1                4.544500  ...                   0.047000\n",
              "Q3                6.184500  ...                   0.141250\n",
              "IQR               1.640000  ...                   0.094250\n",
              "Standard Deviasi  1.113120  ...                   0.094538\n",
              "Variance          1.239036  ...                   0.008937\n",
              "\n",
              "[9 rows x 7 columns]"
            ]
          },
          "metadata": {
            "tags": []
          },
          "execution_count": 4
        }
      ]
    },
    {
      "cell_type": "code",
      "metadata": {
        "id": "KNWIiijGCGsq",
        "colab_type": "code",
        "colab": {
          "base_uri": "https://localhost:8080/",
          "height": 391
        },
        "outputId": "1525eb3d-10a0-42b1-9e1f-7897914a9df3"
      },
      "source": [
        "# data point in Z-value\n",
        "df2 = df.copy()\n",
        "for col in ['Score', 'GDP per capita', 'Social support', 'Healthy life expectancy',\n",
        "            'Freedom to make life choices', 'Generosity', 'Perceptions of corruption']:\n",
        "  df2[col] = (df2[col] - df1.loc['Mean', col]) / df1.loc['Standard Deviasi', col]\n",
        "df2"
      ],
      "execution_count": 5,
      "outputs": [
        {
          "output_type": "execute_result",
          "data": {
            "text/html": [
              "<div>\n",
              "<style scoped>\n",
              "    .dataframe tbody tr th:only-of-type {\n",
              "        vertical-align: middle;\n",
              "    }\n",
              "\n",
              "    .dataframe tbody tr th {\n",
              "        vertical-align: top;\n",
              "    }\n",
              "\n",
              "    .dataframe thead th {\n",
              "        text-align: right;\n",
              "    }\n",
              "</style>\n",
              "<table border=\"1\" class=\"dataframe\">\n",
              "  <thead>\n",
              "    <tr style=\"text-align: right;\">\n",
              "      <th></th>\n",
              "      <th>Country or region</th>\n",
              "      <th>Score</th>\n",
              "      <th>GDP per capita</th>\n",
              "      <th>Social support</th>\n",
              "      <th>Healthy life expectancy</th>\n",
              "      <th>Freedom to make life choices</th>\n",
              "      <th>Generosity</th>\n",
              "      <th>Perceptions of corruption</th>\n",
              "    </tr>\n",
              "  </thead>\n",
              "  <tbody>\n",
              "    <tr>\n",
              "      <th>0</th>\n",
              "      <td>Finland</td>\n",
              "      <td>2.121877</td>\n",
              "      <td>1.091526</td>\n",
              "      <td>1.264027</td>\n",
              "      <td>1.076954</td>\n",
              "      <td>1.419710</td>\n",
              "      <td>-0.334327</td>\n",
              "      <td>2.987137</td>\n",
              "    </tr>\n",
              "    <tr>\n",
              "      <th>1</th>\n",
              "      <td>Denmark</td>\n",
              "      <td>1.970052</td>\n",
              "      <td>1.199461</td>\n",
              "      <td>1.217234</td>\n",
              "      <td>1.118255</td>\n",
              "      <td>1.391794</td>\n",
              "      <td>0.704994</td>\n",
              "      <td>3.166959</td>\n",
              "    </tr>\n",
              "    <tr>\n",
              "      <th>2</th>\n",
              "      <td>Norway</td>\n",
              "      <td>1.928727</td>\n",
              "      <td>1.463022</td>\n",
              "      <td>1.247315</td>\n",
              "      <td>1.250419</td>\n",
              "      <td>1.468562</td>\n",
              "      <td>0.904460</td>\n",
              "      <td>2.437092</td>\n",
              "    </tr>\n",
              "    <tr>\n",
              "      <th>3</th>\n",
              "      <td>Iceland</td>\n",
              "      <td>1.874824</td>\n",
              "      <td>1.191931</td>\n",
              "      <td>1.387693</td>\n",
              "      <td>1.242159</td>\n",
              "      <td>1.384816</td>\n",
              "      <td>1.775811</td>\n",
              "      <td>0.078248</td>\n",
              "    </tr>\n",
              "    <tr>\n",
              "      <th>4</th>\n",
              "      <td>Netherlands</td>\n",
              "      <td>1.869434</td>\n",
              "      <td>1.232092</td>\n",
              "      <td>1.046774</td>\n",
              "      <td>1.130646</td>\n",
              "      <td>1.147534</td>\n",
              "      <td>1.439868</td>\n",
              "      <td>1.982248</td>\n",
              "    </tr>\n",
              "    <tr>\n",
              "      <th>...</th>\n",
              "      <td>...</td>\n",
              "      <td>...</td>\n",
              "      <td>...</td>\n",
              "      <td>...</td>\n",
              "      <td>...</td>\n",
              "      <td>...</td>\n",
              "      <td>...</td>\n",
              "      <td>...</td>\n",
              "    </tr>\n",
              "    <tr>\n",
              "      <th>151</th>\n",
              "      <td>Rwanda</td>\n",
              "      <td>-1.862420</td>\n",
              "      <td>-1.370888</td>\n",
              "      <td>-1.663865</td>\n",
              "      <td>-0.459449</td>\n",
              "      <td>1.133576</td>\n",
              "      <td>0.337557</td>\n",
              "      <td>3.177537</td>\n",
              "    </tr>\n",
              "    <tr>\n",
              "      <th>152</th>\n",
              "      <td>Tanzania</td>\n",
              "      <td>-1.954952</td>\n",
              "      <td>-1.077206</td>\n",
              "      <td>-1.082297</td>\n",
              "      <td>-0.934412</td>\n",
              "      <td>0.170490</td>\n",
              "      <td>0.956951</td>\n",
              "      <td>0.385004</td>\n",
              "    </tr>\n",
              "    <tr>\n",
              "      <th>153</th>\n",
              "      <td>Afghanistan</td>\n",
              "      <td>-1.980107</td>\n",
              "      <td>-1.393479</td>\n",
              "      <td>-2.312279</td>\n",
              "      <td>-1.504368</td>\n",
              "      <td>-2.739702</td>\n",
              "      <td>-0.281836</td>\n",
              "      <td>-0.905485</td>\n",
              "    </tr>\n",
              "    <tr>\n",
              "      <th>154</th>\n",
              "      <td>Central African Republic</td>\n",
              "      <td>-2.087912</td>\n",
              "      <td>-2.206754</td>\n",
              "      <td>-4.040270</td>\n",
              "      <td>-2.561677</td>\n",
              "      <td>-1.169454</td>\n",
              "      <td>0.526525</td>\n",
              "      <td>-0.799707</td>\n",
              "    </tr>\n",
              "    <tr>\n",
              "      <th>155</th>\n",
              "      <td>South Sudan</td>\n",
              "      <td>-2.294538</td>\n",
              "      <td>-1.503924</td>\n",
              "      <td>-2.118424</td>\n",
              "      <td>-1.776956</td>\n",
              "      <td>-2.669914</td>\n",
              "      <td>0.180084</td>\n",
              "      <td>-0.207352</td>\n",
              "    </tr>\n",
              "  </tbody>\n",
              "</table>\n",
              "<p>156 rows × 8 columns</p>\n",
              "</div>"
            ],
            "text/plain": [
              "            Country or region     Score  ...  Generosity  Perceptions of corruption\n",
              "0                     Finland  2.121877  ...   -0.334327                   2.987137\n",
              "1                     Denmark  1.970052  ...    0.704994                   3.166959\n",
              "2                      Norway  1.928727  ...    0.904460                   2.437092\n",
              "3                     Iceland  1.874824  ...    1.775811                   0.078248\n",
              "4                 Netherlands  1.869434  ...    1.439868                   1.982248\n",
              "..                        ...       ...  ...         ...                        ...\n",
              "151                    Rwanda -1.862420  ...    0.337557                   3.177537\n",
              "152                  Tanzania -1.954952  ...    0.956951                   0.385004\n",
              "153               Afghanistan -1.980107  ...   -0.281836                  -0.905485\n",
              "154  Central African Republic -2.087912  ...    0.526525                  -0.799707\n",
              "155               South Sudan -2.294538  ...    0.180084                  -0.207352\n",
              "\n",
              "[156 rows x 8 columns]"
            ]
          },
          "metadata": {
            "tags": []
          },
          "execution_count": 5
        }
      ]
    },
    {
      "cell_type": "markdown",
      "metadata": {
        "id": "-mLjq4FDsci2",
        "colab_type": "text"
      },
      "source": [
        "###### __2.__ Untuk setiap numerik feature/column (kecuali column Overall Rank), carilah data outlier-nya berdasarkan:\n",
        "\n",
        "- IQR method\n",
        "- Z-score method"
      ]
    },
    {
      "cell_type": "code",
      "metadata": {
        "id": "sO0XJXGrtA0a",
        "colab_type": "code",
        "colab": {
          "base_uri": "https://localhost:8080/",
          "height": 342
        },
        "outputId": "3889db79-e6c5-47f4-feeb-a19042175edd"
      },
      "source": [
        "# IQR method\n",
        "outliers_IQR = {}\n",
        "\n",
        "for col in ['Score', 'GDP per capita', 'Social support', 'Healthy life expectancy',\n",
        "            'Freedom to make life choices', 'Generosity', 'Perceptions of corruption']:\n",
        "  lim_top = df1.loc['Q3', col] + (1.5 * df1.loc['IQR', col])\n",
        "  lim_bot = df1.loc['Q1', col] - (1.5 * df1.loc['IQR', col])\n",
        "  outliers_IQR[col] = [x for x in df[col].values if x > lim_top or x < lim_bot]\n",
        "  \n",
        "outliers_IQR"
      ],
      "execution_count": 6,
      "outputs": [
        {
          "output_type": "execute_result",
          "data": {
            "text/plain": [
              "{'Freedom to make life choices': [0.0],\n",
              " 'GDP per capita': [],\n",
              " 'Generosity': [0.498, 0.5660000000000001],\n",
              " 'Healthy life expectancy': [0.0],\n",
              " 'Perceptions of corruption': [0.39299999999999996,\n",
              "  0.41,\n",
              "  0.341,\n",
              "  0.298,\n",
              "  0.34299999999999997,\n",
              "  0.373,\n",
              "  0.38,\n",
              "  0.308,\n",
              "  0.29,\n",
              "  0.316,\n",
              "  0.31,\n",
              "  0.45299999999999996,\n",
              "  0.287,\n",
              "  0.41100000000000003],\n",
              " 'Score': [],\n",
              " 'Social support': [0.43700000000000006, 0.447, 0.37799999999999995, 0.0]}"
            ]
          },
          "metadata": {
            "tags": []
          },
          "execution_count": 6
        }
      ]
    },
    {
      "cell_type": "code",
      "metadata": {
        "id": "R8F_UBvX_cv8",
        "colab_type": "code",
        "colab": {
          "base_uri": "https://localhost:8080/",
          "height": 505
        },
        "outputId": "69f68a82-c409-40e3-fe94-7f9e41a843c9"
      },
      "source": [
        "# Z-score method\n",
        "outliers_Z = {}\n",
        "\n",
        "for col in ['Score', 'GDP per capita', 'Social support', 'Healthy life expectancy',\n",
        "            'Freedom to make life choices', 'Generosity', 'Perceptions of corruption']:\n",
        "  lim_top = df1.loc['Mean', col] + (2* df1.loc['Standard Deviasi', col])\n",
        "  lim_bot = df1.loc['Mean', col] - (2* df1.loc['Standard Deviasi', col])\n",
        "  outliers_Z[col] = [x for x in df[col].values if x > lim_top or x < lim_bot]\n",
        "\n",
        "outliers_Z"
      ],
      "execution_count": 7,
      "outputs": [
        {
          "output_type": "execute_result",
          "data": {
            "text/plain": [
              "{'Freedom to make life choices': [0.067,\n",
              "  0.086,\n",
              "  0.066,\n",
              "  0.026000000000000002,\n",
              "  0.013000000000000001,\n",
              "  0.0,\n",
              "  0.01],\n",
              " 'GDP per capita': [0.0, 0.094, 0.073, 0.046, 0.026000000000000002],\n",
              " 'Generosity': [0.498, 0.5660000000000001, 0.419],\n",
              " 'Healthy life expectancy': [0.23199999999999998, 0.192, 0.0, 0.168, 0.105],\n",
              " 'Perceptions of corruption': [0.39299999999999996,\n",
              "  0.41,\n",
              "  0.341,\n",
              "  0.34299999999999997,\n",
              "  0.373,\n",
              "  0.38,\n",
              "  0.308,\n",
              "  0.316,\n",
              "  0.31,\n",
              "  0.45299999999999996,\n",
              "  0.41100000000000003],\n",
              " 'Score': [7.769, 3.083, 2.853],\n",
              " 'Social support': [0.43700000000000006,\n",
              "  0.5720000000000001,\n",
              "  0.447,\n",
              "  0.37799999999999995,\n",
              "  0.56,\n",
              "  0.517,\n",
              "  0.0,\n",
              "  0.575]}"
            ]
          },
          "metadata": {
            "tags": []
          },
          "execution_count": 7
        }
      ]
    },
    {
      "cell_type": "markdown",
      "metadata": {
        "id": "DCcosVD_scgB",
        "colab_type": "text"
      },
      "source": [
        "###### __3.__ Tampilkan sebaran masing-masing numerik feature/column (kecuali column Overall Rank) dalam bentuk boxplot dan histogram!"
      ]
    },
    {
      "cell_type": "code",
      "metadata": {
        "id": "8n1w3OcUIBIl",
        "colab_type": "code",
        "colab": {
          "base_uri": "https://localhost:8080/",
          "height": 297
        },
        "outputId": "80ac4373-d10b-4579-bccd-b8f85d86c3b3"
      },
      "source": [
        "fig, ax = plt.subplots(1, 7, figsize=(16,4))\n",
        "ax = ax.flatten()\n",
        "\n",
        "for i, col in enumerate(['Score', 'GDP per capita', 'Social support', 'Healthy life expectancy',\n",
        "                         'Freedom to make life choices', 'Generosity', 'Perceptions of corruption']):\n",
        "  ax[i].boxplot(df[col])\n",
        "  ax[i].set_title(col)\n",
        "  ax[i].set_xticklabels([], visible=False)\n",
        "fig.tight_layout()"
      ],
      "execution_count": 8,
      "outputs": [
        {
          "output_type": "display_data",
          "data": {
            "image/png": "[encoded data removed]",
            "text/plain": [
              "<Figure size 1152x288 with 7 Axes>"
            ]
          },
          "metadata": {
            "tags": []
          }
        }
      ]
    },
    {
      "cell_type": "code",
      "metadata": {
        "id": "3nfM-afyIBFp",
        "colab_type": "code",
        "colab": {
          "base_uri": "https://localhost:8080/",
          "height": 585
        },
        "outputId": "ebcd9a50-8a7e-467b-c681-540c29f97a13"
      },
      "source": [
        "fig, ax = plt.subplots(2, 4, figsize=(16,8))\n",
        "ax = ax.flatten()\n",
        "\n",
        "for i, col in enumerate(['Score', 'GDP per capita', 'Social support', 'Healthy life expectancy',\n",
        "                         'Freedom to make life choices', 'Generosity', 'Perceptions of corruption']):\n",
        "  ax[i].hist(df[col])\n",
        "  ax[i].set_xlabel(col)\n",
        "ax[7].set_visible(False)\n",
        "    \n",
        "fig.tight_layout()"
      ],
      "execution_count": 9,
      "outputs": [
        {
          "output_type": "display_data",
          "data": {
            "image/png": "[encoded data removed]",
            "text/plain": [
              "<Figure size 1152x576 with 8 Axes>"
            ]
          },
          "metadata": {
            "tags": []
          }
        }
      ]
    },
    {
      "cell_type": "markdown",
      "metadata": {
        "id": "uEUc_c4pscZM",
        "colab_type": "text"
      },
      "source": [
        "###### __4.__ Di antara semua numerik feature/column (kecuali column Overall Rank), feature/column mana saja yang sangat mempengaruhi happiness score suatu negara? Buktikan dengan menghitung nilai:\n",
        "\n",
        "- Covariance\n",
        "- Pearson Correlation\n",
        "- Spearman Correlation\n",
        "- Kendall Correlation"
      ]
    },
    {
      "cell_type": "code",
      "metadata": {
        "id": "YI8kZxkDPE10",
        "colab_type": "code",
        "colab": {
          "base_uri": "https://localhost:8080/",
          "height": 147
        },
        "outputId": "114bfc88-531f-40a7-f95f-09fd274ce797"
      },
      "source": [
        "df.cov()['Score'].sort_values(ascending=False)"
      ],
      "execution_count": 10,
      "outputs": [
        {
          "output_type": "execute_result",
          "data": {
            "text/plain": [
              "Score                           1.239036\n",
              "GDP per capita                  0.352052\n",
              "Social support                  0.258788\n",
              "Healthy life expectancy         0.210189\n",
              "Freedom to make life choices    0.090394\n",
              "Perceptions of corruption       0.040579\n",
              "Generosity                      0.008040\n",
              "Name: Score, dtype: float64"
            ]
          },
          "metadata": {
            "tags": []
          },
          "execution_count": 10
        }
      ]
    },
    {
      "cell_type": "code",
      "metadata": {
        "id": "-i7KFtGQtAGL",
        "colab_type": "code",
        "colab": {
          "base_uri": "https://localhost:8080/",
          "height": 147
        },
        "outputId": "b3761c26-2ef4-4cc7-a1db-86a30ebe0959"
      },
      "source": [
        "df.corr(method=\"pearson\")['Score'].sort_values(ascending=False)"
      ],
      "execution_count": 11,
      "outputs": [
        {
          "output_type": "execute_result",
          "data": {
            "text/plain": [
              "Score                           1.000000\n",
              "GDP per capita                  0.793883\n",
              "Healthy life expectancy         0.779883\n",
              "Social support                  0.777058\n",
              "Freedom to make life choices    0.566742\n",
              "Perceptions of corruption       0.385613\n",
              "Generosity                      0.075824\n",
              "Name: Score, dtype: float64"
            ]
          },
          "metadata": {
            "tags": []
          },
          "execution_count": 11
        }
      ]
    },
    {
      "cell_type": "code",
      "metadata": {
        "id": "bVlLSQAOPAoO",
        "colab_type": "code",
        "colab": {
          "base_uri": "https://localhost:8080/",
          "height": 147
        },
        "outputId": "46eb7fdd-18e7-4ee5-8de1-8cbae2f4f82f"
      },
      "source": [
        "df.corr(method=\"spearman\")['Score'].sort_values(ascending=False)"
      ],
      "execution_count": 12,
      "outputs": [
        {
          "output_type": "execute_result",
          "data": {
            "text/plain": [
              "Score                           1.000000\n",
              "Social support                  0.816181\n",
              "GDP per capita                  0.814483\n",
              "Healthy life expectancy         0.807275\n",
              "Freedom to make life choices    0.551974\n",
              "Perceptions of corruption       0.217348\n",
              "Generosity                      0.070483\n",
              "Name: Score, dtype: float64"
            ]
          },
          "metadata": {
            "tags": []
          },
          "execution_count": 12
        }
      ]
    },
    {
      "cell_type": "code",
      "metadata": {
        "id": "bT8OHsiWPkBm",
        "colab_type": "code",
        "colab": {
          "base_uri": "https://localhost:8080/",
          "height": 147
        },
        "outputId": "d5fbd9a1-9031-4562-9366-24141253d607"
      },
      "source": [
        "df.corr(method=\"kendall\")['Score'].sort_values(ascending=False)"
      ],
      "execution_count": 13,
      "outputs": [
        {
          "output_type": "execute_result",
          "data": {
            "text/plain": [
              "Score                           1.000000\n",
              "GDP per capita                  0.619993\n",
              "Social support                  0.616792\n",
              "Healthy life expectancy         0.602613\n",
              "Freedom to make life choices    0.394203\n",
              "Perceptions of corruption       0.140974\n",
              "Generosity                      0.043759\n",
              "Name: Score, dtype: float64"
            ]
          },
          "metadata": {
            "tags": []
          },
          "execution_count": 13
        }
      ]
    },
    {
      "cell_type": "markdown",
      "metadata": {
        "id": "SQB42wAkQJhd",
        "colab_type": "text"
      },
      "source": [
        "Berdasarkan nilai covariance dan correlation terhadap Score, diketahui __top 3 features : GDP per capita, Social support, Healthy life expectancy__ dengan nilai yang relatif sama atau dekat. Sedang 3 feature lainnya memiliki korelasi yang tidak kuat, bahkan tidak memiliki korelasi (feature Generosity)."
      ]
    },
    {
      "cell_type": "markdown",
      "metadata": {
        "id": "Z9MvOsV4scVq",
        "colab_type": "text"
      },
      "source": [
        "###### __5.__ Visualisasikan dalam bentuk bar chart data berikut:\n",
        "\n",
        "- 10 Negara dengan GDP per capita tertinggi.\n",
        "- 10 Negara dengan Healthy life expectancy tertinggi.\n",
        "- 10 Negara dengan Perceptions of corruption tertinggi."
      ]
    },
    {
      "cell_type": "code",
      "metadata": {
        "id": "l63H0GZOSdJj",
        "colab_type": "code",
        "colab": {}
      },
      "source": [
        "import seaborn as sns"
      ],
      "execution_count": 0,
      "outputs": []
    },
    {
      "cell_type": "code",
      "metadata": {
        "id": "3xdn1juIsvty",
        "colab_type": "code",
        "colab": {
          "base_uri": "https://localhost:8080/",
          "height": 447
        },
        "outputId": "2c391dec-b4e6-42ba-ed0e-049eebd62925"
      },
      "source": [
        "df_10gdp = df.sort_values(by='GDP per capita', ascending=True).iloc[-10:]\n",
        "\n",
        "plt.figure(figsize=(6,5))\n",
        "ax = sns.barplot(x='Country or region', y='GDP per capita',\n",
        "            data = df_10gdp)\n",
        "ax.set_title('10 Negara dengan GDP per capita tertinggi')\n",
        "ax.set_xticklabels(df_10gdp['Country or region'], rotation='vertical')\n",
        "ax.set_ylim((1.25, 1.75))\n",
        "ax.grid(axis='y');"
      ],
      "execution_count": 15,
      "outputs": [
        {
          "output_type": "display_data",
          "data": {
            "image/png": "[encoded data removed]",
            "text/plain": [
              "<Figure size 432x360 with 1 Axes>"
            ]
          },
          "metadata": {
            "tags": []
          }
        }
      ]
    },
    {
      "cell_type": "code",
      "metadata": {
        "id": "ovP6adrBSR0Q",
        "colab_type": "code",
        "colab": {
          "base_uri": "https://localhost:8080/",
          "height": 447
        },
        "outputId": "13396b42-dfa9-4af3-fd4c-814afd9a96ff"
      },
      "source": [
        "df_10health = df.sort_values(by='Healthy life expectancy', ascending=True).iloc[-10:]\n",
        "\n",
        "plt.figure(figsize=(6,5))\n",
        "ax = sns.barplot(x='Country or region', y='Healthy life expectancy',\n",
        "            data = df_10health)\n",
        "ax.set_title('10 Negara dengan Healthy life expectancy tertinggi')\n",
        "ax.set_xticklabels(df_10gdp['Country or region'], rotation='vertical')\n",
        "ax.set_ylim((0.9, 1.2))\n",
        "ax.grid(axis='y');"
      ],
      "execution_count": 16,
      "outputs": [
        {
          "output_type": "display_data",
          "data": {
            "image/png": "[encoded data removed]",
            "text/plain": [
              "<Figure size 432x360 with 1 Axes>"
            ]
          },
          "metadata": {
            "tags": []
          }
        }
      ]
    },
    {
      "cell_type": "code",
      "metadata": {
        "id": "BSzq7NMTXYau",
        "colab_type": "code",
        "colab": {
          "base_uri": "https://localhost:8080/",
          "height": 447
        },
        "outputId": "b45c0cea-30a2-4518-8a05-cca6b75426eb"
      },
      "source": [
        "df_10pop = df.sort_values(by='Perceptions of corruption', ascending=True).iloc[-10:]\n",
        "\n",
        "plt.figure(figsize=(6,5))\n",
        "ax = sns.barplot(x='Country or region', y='Perceptions of corruption',\n",
        "            data = df_10pop)\n",
        "ax.set_title('10 Negara dengan Perceptions of corruption tertinggi')\n",
        "ax.set_xticklabels(df_10gdp['Country or region'], rotation='vertical')\n",
        "ax.set_ylim((0.25, 0.5))\n",
        "ax.grid(axis='y');"
      ],
      "execution_count": 17,
      "outputs": [
        {
          "output_type": "display_data",
          "data": {
            "image/png": "[encoded data removed]",
            "text/plain": [
              "<Figure size 432x360 with 1 Axes>"
            ]
          },
          "metadata": {
            "tags": []
          }
        }
      ]
    }
  ]
}